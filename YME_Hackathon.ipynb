{
  "nbformat": 4,
  "nbformat_minor": 0,
  "metadata": {
    "colab": {
      "provenance": [],
      "mount_file_id": "1MX2H38QW20CMnJkKc5PFART8T4z4qI9I",
      "authorship_tag": "ABX9TyNv5PQvD0YHesNzp4Cae1AJ",
      "include_colab_link": true
    },
    "kernelspec": {
      "name": "python3",
      "display_name": "Python 3"
    },
    "language_info": {
      "name": "python"
    }
  },
  "cells": [
    {
      "cell_type": "markdown",
      "metadata": {
        "id": "view-in-github",
        "colab_type": "text"
      },
      "source": [
        "<a href=\"https://colab.research.google.com/github/Viggy1357/datasciencehackathonBankEvie/blob/main/YME_Hackathon.ipynb\" target=\"_parent\"><img src=\"https://colab.research.google.com/assets/colab-badge.svg\" alt=\"Open In Colab\"/></a>"
      ]
    },
    {
      "cell_type": "code",
      "execution_count": null,
      "metadata": {
        "id": "9V0r5IzeDhLC"
      },
      "outputs": [],
      "source": [
        "import numpy as np\n",
        "import pandas as pd\n",
        "import seaborn as sns\n",
        "import matplotlib.pyplot as plt\n",
        "plt.style.use(\"ggplot\")  #using style ggplot\n",
        "from imblearn.over_sampling import RandomOverSampler\n",
        "import tensorflow as tf\n",
        "import tensorflow_hub as hub\n",
        "\n",
        "from mpl_toolkits.mplot3d import Axes3D\n",
        "from sklearn.preprocessing import StandardScaler\n",
        "import matplotlib.pyplot as plt # plotting\n",
        "from sklearn.model_selection import train_test_split\n",
        "from sklearn.linear_model import LogisticRegression, RidgeClassifier\n",
        "from sklearn.metrics import accuracy_score,classification_report,confusion_matrix,mean_squared_error\n",
        "import warnings\n",
        "warnings.filterwarnings('ignore')\n",
        "%matplotlib inline\n",
        "\n",
        "from tensorflow.keras import layers\n",
        "from tensorflow.keras.layers.experimental import RandomFourierFeatures"
      ]
    },
    {
      "cell_type": "markdown",
      "source": [
        "# **Step 1 :Cleaning and Data Prepping**"
      ],
      "metadata": {
        "id": "lGtoqW8dE2D3"
      }
    },
    {
      "cell_type": "code",
      "source": [
        "df=pd.read_csv(\"/content/drive/MyDrive/loandefault_5k.csv\")\n",
        "df.head()"
      ],
      "metadata": {
        "id": "vhqZAYY8EfoX"
      },
      "execution_count": null,
      "outputs": []
    },
    {
      "cell_type": "code",
      "source": [
        "df.info()"
      ],
      "metadata": {
        "id": "sMIwWW-aFES2"
      },
      "execution_count": null,
      "outputs": []
    },
    {
      "cell_type": "markdown",
      "source": [
        "we can observe this datasets has 5000 rows full with data (without any missing values in any of the cells) - thus do not require to perform mean average to fill up the empty cells. \n",
        "\n",
        "we also observe it has 23 features, with the last column being the actual output data(Y) of defaulters. \n",
        "\n",
        "Columns PAY_0, PAY_2 ... PAY_6 indicates the repayment status with no PAY_1 column, so we rename PAY_0 to PAY_1 and default payment next month to Y, for ease of understanding, "
      ],
      "metadata": {
        "id": "yWN3a49yFMfn"
      }
    },
    {
      "cell_type": "code",
      "source": [
        "df.rename(columns={'default payment next month':'Y'}, inplace=True)\n",
        "df.rename(columns={'PAY_0':'PAY_1'}, inplace=True)"
      ],
      "metadata": {
        "id": "0pE_HqAyF29J"
      },
      "execution_count": null,
      "outputs": []
    },
    {
      "cell_type": "code",
      "source": [
        "df.isna().sum()    # check for missing values for surity"
      ],
      "metadata": {
        "id": "yXJqJ4f1Gtoh"
      },
      "execution_count": null,
      "outputs": []
    },
    {
      "cell_type": "markdown",
      "source": [
        "there's no missing values hence no cleaning is required as it's already cleaned. Next, we'll move on to data visualization."
      ],
      "metadata": {
        "id": "I9BQp8UWG9HL"
      }
    },
    {
      "cell_type": "markdown",
      "source": [
        "# **Step 2: Data Visualization**"
      ],
      "metadata": {
        "id": "Cc2ZI171HKDq"
      }
    },
    {
      "cell_type": "code",
      "source": [
        "# Checking data balance/proportion\n",
        "loan = df.Y.value_counts().to_frame().rename(columns={\"Y\":\"absolute\"})\n",
        "loan[\"percent\"] = (loan.apply(lambda x: x/x.sum()*100).round(2))\n",
        "display(loan)\n",
        "\n",
        "\n",
        "# pie chart\n",
        "df.Y.value_counts().plot(kind='pie', subplots=True, autopct='%1.2f%%', explode= (0.05, 0.05), startangle=80, legend=True, fontsize=14, figsize=(16,8), textprops={'color':\"black\"})\n",
        "plt.legend([\"0: paid loan\",\"1: not paid loan\"])"
      ],
      "metadata": {
        "id": "y19JrRDcHzAk"
      },
      "execution_count": null,
      "outputs": []
    },
    {
      "cell_type": "markdown",
      "source": [
        "here we notice that the data set we have is an unbalanced datasets where the non-loan defaulters are 3x the amount of loan defaulters."
      ],
      "metadata": {
        "id": "nUBhOLzkIgEF"
      }
    },
    {
      "cell_type": "code",
      "source": [
        "plt.subplots(figsize=(30,20))\n",
        "sns.heatmap(df.corr(), annot=True)\n",
        "plt.show()"
      ],
      "metadata": {
        "id": "l8Eez5CTHPZr"
      },
      "execution_count": null,
      "outputs": []
    },
    {
      "cell_type": "code",
      "source": [
        "mask = np.triu(df.corr(), 1)\n",
        "plt.figure(figsize=(30, 20))\n",
        "sns.heatmap(df.corr(), annot=True, vmax=1, vmin=-1, square=True,fmt='.2f', cmap='BrBG', mask=mask);"
      ],
      "metadata": {
        "id": "bJ07HBlyL5kY"
      },
      "execution_count": null,
      "outputs": []
    },
    {
      "cell_type": "markdown",
      "source": [
        "we're identifying the correlation between the other features with Y. The resulting figure shows the entire entire correlation matrix via heatmap.  "
      ],
      "metadata": {
        "id": "ml4qOsi7HbyT"
      }
    },
    {
      "cell_type": "code",
      "source": [
        "k = 11 #number of variables for heatmap\n",
        "corrmat = df.corr()\n",
        "cols = corrmat.nlargest(k, 'Y')['Y'].index\n",
        "cm = np.corrcoef(df[cols].values.T)\n",
        "sns.set(font_scale=1.25)\n",
        "plt.subplots(figsize=(10,10))\n",
        "#hm = sns.heatmap(cm, cbar=True, annot=True, square=True, fmt='.2f', annot_kws={'size': 10}, yticklabels=cols.values, xticklabels=cols.values)\n",
        "\n",
        "\n",
        "mask = np.triu(cm, 1)\n",
        "sns.heatmap(cm, annot=True, vmax=1, vmin=-1, square=True,fmt='.2f',yticklabels=cols.values, xticklabels=cols.values, cmap='BrBG', mask=mask);\n",
        "plt.show()"
      ],
      "metadata": {
        "id": "MdTdUPAcHqpF"
      },
      "execution_count": null,
      "outputs": []
    },
    {
      "cell_type": "markdown",
      "source": [
        "The above figure depicts the 10 features with the highest correlation towards loan defaults. Let's further analyze this one by one. \n",
        "\n",
        "Take note that PAY_1 - PAY_6 are in the same broad category (Past Payments) and BILL_AMT4 is from (Amount of Bill Settlement)"
      ],
      "metadata": {
        "id": "ieBJLtfgIoMf"
      }
    },
    {
      "cell_type": "code",
      "source": [
        "new_df = df[['PAY_1','PAY_2','PAY_3','PAY_4','PAY_5','PAY_6', \"EDUCATION\", \"AGE\", \"BILL_AMT4\",\"BILL_AMT6\", \"Y\"]]"
      ],
      "metadata": {
        "id": "kQhRFa5dJUsG"
      },
      "execution_count": null,
      "outputs": []
    },
    {
      "cell_type": "code",
      "source": [
        "bins = [20,30,40,50,60,70,80]\n",
        "names = ['21-30','31-40','41-50','51-60','61-70','71-80']\n",
        "df['AGE_BIN'] = pd.cut(x=df.AGE, bins=bins, labels=names, right=True)\n",
        "\n",
        "age_cnt = df.AGE_BIN.value_counts()\n",
        "age_0 = (df.AGE_BIN[df['Y'] == 0].value_counts())\n",
        "age_1 = (df.AGE_BIN[df['Y'] == 1].value_counts())\n",
        "\n",
        "plt.subplots(figsize=(8,5))\n",
        "# sns.barplot(data=df, x='AGE_BIN', y='LIMIT_BAL', hue='Y', ci=0)\n",
        "plt.bar(age_0.index, age_0.values, label='0')\n",
        "plt.bar(age_1.index, age_1.values, label='1')\n",
        "for x,y in zip(names,age_0):\n",
        "    plt.text(x,y,y,fontsize=12)\n",
        "for x,y in zip(names,age_1):\n",
        "    plt.text(x,y,y,fontsize=12)\n",
        "plt.xticks(fontsize=12)\n",
        "plt.yticks(fontsize=12)\n",
        "plt.title(\"Number of clients in each age group\", fontsize=15)\n",
        "plt.legend(loc='upper right', fontsize=15)\n",
        "plt.show()"
      ],
      "metadata": {
        "id": "Xnwf1KlwQy7Z"
      },
      "execution_count": null,
      "outputs": []
    },
    {
      "cell_type": "code",
      "source": [
        "for i in range(len(new_df.columns[:-1])):\n",
        "  label = new_df.columns[i]\n",
        "  plt.hist(new_df[new_df[\"Y\"]==0][label], color=\"blue\", label=\"No Default\", alpha=0.7, density=True)\n",
        "  plt.hist(new_df[new_df[\"Y\"]==1][label], color=\"red\", label=\"Default\", alpha=0.7, density=True )\n",
        "  plt.ylabel(\"Probability\")\n",
        "  plt.xlabel(label)\n",
        "  plt.legend()\n",
        "  plt.show()"
      ],
      "metadata": {
        "id": "Do05eiuFJICV"
      },
      "execution_count": null,
      "outputs": []
    },
    {
      "cell_type": "code",
      "source": [
        "df = df.drop(['AGE_BIN'], axis=1)"
      ],
      "metadata": {
        "id": "jKWZNBnCJs1v"
      },
      "execution_count": null,
      "outputs": []
    },
    {
      "cell_type": "markdown",
      "source": [
        "using the new dataframe"
      ],
      "metadata": {
        "id": "iFC-b2-hJsIF"
      }
    },
    {
      "cell_type": "code",
      "source": [
        "X = df[df.columns[:-1]].values\n",
        "y = df[df.columns[-1]].values\n",
        "\n",
        "X = new_df[new_df.columns[:-1]].values\n",
        "y = new_df[new_df.columns[-1]].values\n",
        "\n",
        "#to reshape the x and y to make it both mat\n",
        "scaler = StandardScaler()\n",
        "X = scaler.fit_transform(X)\n",
        "\n",
        "over = RandomOverSampler()\n",
        "X, y = over.fit_resample(X, y)\n",
        "data = np.hstack((X, np.reshape(y, (-1, 1)))) \n",
        "transformed_df = pd.DataFrame(data, columns=new_df.columns)\n",
        "\n",
        "#randomly split arrays or matrices into random train and test subsets\n",
        "X_train, X_temp, y_train, y_temp = train_test_split(X,y, test_size=0.4, random_state=10)\n",
        "X_valid, X_test, y_valid, y_test = train_test_split(X_temp,y_temp, test_size=0.5, random_state=10)"
      ],
      "metadata": {
        "id": "YO3A62cQ-DqN"
      },
      "execution_count": null,
      "outputs": []
    },
    {
      "cell_type": "code",
      "source": [
        "#building model using tenserflow\n",
        "model = tf.keras.Sequential((\n",
        "    tf.keras.layers.Dense(16, activation=\"relu\"), #if x<0, it becomes 0, if x>0 = x\n",
        "    tf.keras.layers.Dense(16, activation=\"relu\"), #if x<0, it becomes 0, if x>0 = x\n",
        "    tf.keras.layers.Dense(1, activation=\"sigmoid\") #if x<0, it becomes 0, if x>0 = x\n",
        "))\n",
        "\n",
        "model.compile(optimizer=tf.keras.optimizers.Adam(learning_rate=0.001),\n",
        "              loss=tf.keras.losses.BinaryCrossentropy(),\n",
        "              metrics=[\"accuracy\"])"
      ],
      "metadata": {
        "id": "EC-v3PzbSbZF"
      },
      "execution_count": null,
      "outputs": []
    },
    {
      "cell_type": "code",
      "source": [
        "model.evaluate(X_train, y_train)"
      ],
      "metadata": {
        "colab": {
          "base_uri": "https://localhost:8080/"
        },
        "id": "Y5xs0VguSd9F",
        "outputId": "dc6f8b1f-fa54-40e9-f61c-e6e3f3b17526"
      },
      "execution_count": null,
      "outputs": [
        {
          "output_type": "stream",
          "name": "stdout",
          "text": [
            "146/146 [==============================] - 1s 1ms/step - loss: 0.7184 - accuracy: 0.5105\n"
          ]
        },
        {
          "output_type": "execute_result",
          "data": {
            "text/plain": [
              "[0.7184157967567444, 0.5104925036430359]"
            ]
          },
          "metadata": {},
          "execution_count": 64
        }
      ]
    },
    {
      "cell_type": "code",
      "source": [
        "model.evaluate(X_valid, y_valid)"
      ],
      "metadata": {
        "colab": {
          "base_uri": "https://localhost:8080/"
        },
        "id": "kZ-ucs7MSgAE",
        "outputId": "6439f0f6-b1ac-4301-f225-ef163d25c41b"
      },
      "execution_count": null,
      "outputs": [
        {
          "output_type": "stream",
          "name": "stdout",
          "text": [
            "49/49 [==============================] - 0s 1ms/step - loss: 0.7253 - accuracy: 0.5145\n"
          ]
        },
        {
          "output_type": "execute_result",
          "data": {
            "text/plain": [
              "[0.7253166437149048, 0.5144508481025696]"
            ]
          },
          "metadata": {},
          "execution_count": 65
        }
      ]
    },
    {
      "cell_type": "code",
      "source": [
        "#batch size number of training examples\n",
        "model.fit(X_train, y_train, batch_size=16, epochs=25, validation_data=(X_valid,y_valid))"
      ],
      "metadata": {
        "id": "4aGsLH3gS3c9"
      },
      "execution_count": null,
      "outputs": []
    },
    {
      "cell_type": "code",
      "source": [
        "model.evaluate(X_test, y_test)"
      ],
      "metadata": {
        "id": "zJOC8Cb8SiJf"
      },
      "execution_count": null,
      "outputs": []
    },
    {
      "cell_type": "code",
      "source": [
        "# compare ensemble to each baseline classifier\n",
        "from numpy import mean\n",
        "from numpy import std\n",
        "from sklearn.datasets import make_classification\n",
        "from sklearn.model_selection import cross_val_score\n",
        "from sklearn.model_selection import RepeatedStratifiedKFold\n",
        "from sklearn.linear_model import LogisticRegression\n",
        "from sklearn.neighbors import KNeighborsClassifier\n",
        "from sklearn.tree import DecisionTreeClassifier\n",
        "from sklearn.svm import SVC\n",
        "from sklearn.naive_bayes import GaussianNB\n",
        "from sklearn.ensemble import StackingClassifier\n",
        "from matplotlib import pyplot\n",
        " \n",
        "# get the dataset\n",
        "def get_dataset():\n",
        "\t(X,y) = (new_df[new_df.columns[:-1]].values, new_df[new_df.columns[-1]].values)  \n",
        "\n",
        "\treturn X, y\n",
        " \n",
        "# get a stacking ensemble of models\n",
        "def get_stacking():\n",
        "\t# define the base models\n",
        "\tlevel0 = list()\n",
        "\tlevel0.append(('lr', LogisticRegression()))\n",
        "\tlevel0.append(('knn', KNeighborsClassifier()))\n",
        "\tlevel0.append(('cart', DecisionTreeClassifier()))\n",
        "\tlevel0.append(('svm', SVC()))\n",
        "\tlevel0.append(('bayes', GaussianNB()))\n",
        "\t# define meta learner model\n",
        "\tlevel1 = LogisticRegression()\n",
        "\t# define the stacking ensemble\n",
        "\tmodel = StackingClassifier(estimators=level0, final_estimator=level1, cv=5)\n",
        "\treturn model\n",
        " \n",
        "# get a list of models to evaluate\n",
        "def get_models():\n",
        "\tmodels = dict()\n",
        "\tmodels['lr'] = LogisticRegression()\n",
        "\tmodels['knn'] = KNeighborsClassifier()\n",
        "\tmodels['cart'] = DecisionTreeClassifier()\n",
        "\tmodels['svm'] = SVC()\n",
        "\tmodels['bayes'] = GaussianNB()\n",
        "\tmodels['stacking'] = get_stacking()\n",
        "\treturn models\n",
        " \n",
        "# evaluate a give model using cross-validation\n",
        "def evaluate_model(model, X, y):\n",
        "\tcv = RepeatedStratifiedKFold(n_splits=10, n_repeats=3, random_state=1)\n",
        "\tscores = cross_val_score(model, X, y, scoring='accuracy', cv=cv, n_jobs=-1, error_score='raise')\n",
        "\treturn scores\n",
        " \n",
        "# define dataset\n",
        "X, y = get_dataset()\n",
        "# get the models to evaluate\n",
        "models = get_models()\n",
        "# evaluate the models and store results\n",
        "results, names = list(), list()\n",
        "for name, model in models.items():\n",
        "\tscores = evaluate_model(model, X, y)\n",
        "\tresults.append(scores)\n",
        "\tnames.append(name)\n",
        "\tprint('>%s %.3f (%.3f)' % (name, mean(scores), std(scores)))\n",
        "# plot model performance for comparison\n",
        "pyplot.boxplot(results, labels=names, showmeans=True)\n",
        "pyplot.show()"
      ],
      "metadata": {
        "colab": {
          "base_uri": "https://localhost:8080/",
          "height": 374
        },
        "id": "VwdUnDIaDfO2",
        "outputId": "c4bdab41-65cb-412f-8f21-0b114e182612"
      },
      "execution_count": null,
      "outputs": [
        {
          "output_type": "stream",
          "name": "stdout",
          "text": [
            ">lr 0.781 (0.007)\n",
            ">knn 0.744 (0.014)\n",
            ">cart 0.717 (0.018)\n",
            ">svm 0.778 (0.001)\n",
            ">bayes 0.783 (0.008)\n",
            ">stacking 0.788 (0.010)\n"
          ]
        },
        {
          "output_type": "display_data",
          "data": {
            "text/plain": [
              "<Figure size 432x288 with 1 Axes>"
            ],
            "image/png": "[encoded data removed]"
          },
          "metadata": {
            "needs_background": "light"
          }
        }
      ]
    }
  ]
}